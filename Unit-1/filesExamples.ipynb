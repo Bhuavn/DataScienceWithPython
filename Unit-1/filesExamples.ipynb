{
 "cells": [
  {
   "cell_type": "markdown",
   "id": "cabde1ae",
   "metadata": {},
   "source": [
    "# Writing into file"
    "read the theory part of the files concept refer the text books or your choice of websites"
   ]
  },
  {
   "cell_type": "code",
   "execution_count": null,
   "id": "d0a1887a",
   "metadata": {},
   "outputs": [],
   "source": [
    "file = open(r\"C:\\Users\\Bhuvan Allu\\Desktop\\Data Science\\input.txt\",'w')\n",
    "line=\" \"\n",
    "while line != \"\": ## loop stops when user enters\n",
    "    ## taking input from user\n",
    "    line = input(\"Enter line : \")\n",
    "    ## writes into file object\n",
    "    file.write(line+\"\\n\")\n",
    "## closing the file\n",
    "file.close()"
   ]
  },
  {
   "cell_type": "markdown",
   "id": "4065a17d",
   "metadata": {},
   "source": [
    "# reading file"
   ]
  },
  {
   "cell_type": "code",
   "execution_count": null,
   "id": "abac135d",
   "metadata": {},
   "outputs": [],
   "source": [
    "file = open(r\"C:\\Users\\Bhuvan Allu\\Desktop\\Data Science\\input.txt\",'r')\n",
    "for line in file:\n",
    "    print(line)"
   ]
  },
  {
   "cell_type": "markdown",
   "id": "19754304",
   "metadata": {},
   "source": [
    "# save user details like name,phone,gender,age into a info.txt file"
   ]
  },
  {
   "cell_type": "code",
   "execution_count": null,
   "id": "17173468",
   "metadata": {},
   "outputs": [],
   "source": [
    "file = open(r\"C:\\Users\\Bhuvan Allu\\Desktop\\Data Science\\info.txt\",'w')\n",
    "name=\" \"\n",
    "while name != \"\": ## loop stops when user enters nothing\n",
    "    ## taking input from user\n",
    "    name = input(\"Enter Name : \")\n",
    "    if name ==\"\":\n",
    "        break\n",
    "    phone = input(\"Enter phone number ddd-ddd-dddd format: \")\n",
    "    gender = input(\"Enter Gender : \")\n",
    "    data = name+\" \"+phone+\" \"+gender+\"\\n\"\n",
    "    ## writes into file object\n",
    "    file.write(data)\n",
    "## closing the file\n",
    "file.close()"
   ]
  },
  {
   "cell_type": "markdown",
   "id": "29ab4d51",
   "metadata": {},
   "source": [
    "# saving phone numbers from info.txt into phone_num.txt"
   ]
  },
  {
   "cell_type": "code",
   "execution_count": null,
   "id": "165b731b",
   "metadata": {},
   "outputs": [],
   "source": [
    "import re\n",
    "## reading and searching for a phone number in the given text\n",
    "phregObj = re.compile(r'\\d{3}-\\d{3}-\\d{4}')\n",
    "info_file = open(r\"C:\\Users\\Bhuvan Allu\\Desktop\\Data Science\\info.txt\",'r')\n",
    "phoneNumbers_file = open(r\"C:\\Users\\Bhuvan Allu\\Desktop\\Data Science\\phone_num.txt\",'w+') ## r+ read and write\n",
    "for line in info_file:\n",
    "    matchObject = re.search(phregObj,line)\n",
    "    phoneNumber = matchObject.group()\n",
    "    phoneNumbers_file.write(str(phoneNumber)+\"\\n\")\n",
    "info_file.close()\n",
    "phoneNumbers_file.close()"
   ]
  },
  {
   "cell_type": "code",
   "execution_count": null,
   "id": "a89e016a",
   "metadata": {},
   "outputs": [],
   "source": []
  }
 ],
 "metadata": {
  "kernelspec": {
   "display_name": "Python 3 (ipykernel)",
   "language": "python",
   "name": "python3"
  },
  "language_info": {
   "codemirror_mode": {
    "name": "ipython",
    "version": 3
   },
   "file_extension": ".py",
   "mimetype": "text/x-python",
   "name": "python",
   "nbconvert_exporter": "python",
   "pygments_lexer": "ipython3",
   "version": "3.9.7"
  }
 },
 "nbformat": 4,
 "nbformat_minor": 5
}
