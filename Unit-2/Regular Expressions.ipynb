{
 "cells": [
  {
   "cell_type": "code",
   "execution_count": 2,
   "id": "f8dd6c15",
   "metadata": {},
   "outputs": [
    {
     "name": "stdout",
     "output_type": "stream",
     "text": [
      "Wonderfull !\n"
     ]
    }
   ],
   "source": [
    "# first we import the re module, which is where python stores regular expressions libraries\n",
    "import re\n",
    "# match() function checks for a match that is at the beginning of the string and returns a boolean\n",
    "# search() checks for a match any where in the string\n",
    "text = 'This is a Good day !'\n",
    "\n",
    "if re.search('Good',text):\n",
    "    print(\"Wonderfull !\")\n",
    "else:\n",
    "    print(\"Alas :( \")"
   ]
  },
  {
   "cell_type": "markdown",
   "id": "7ea23aaa",
   "metadata": {},
   "source": [
    "Tokenizing, where the string is separated into substrings based on a patterns. Tokenizing is a core activity in natural language processing. findall() and split() functions will parse the string for us and return chunks "
   ]
  },
  {
   "cell_type": "code",
   "execution_count": 3,
   "id": "75a9b31f",
   "metadata": {},
   "outputs": [
    {
     "data": {
      "text/plain": [
       "[' \\nData science is an interdisciplinary field that uses scientific methods, processes, algorithms and systems to extract knowledge and insights from noisy, structured and unstructured ',\n",
       " ',[1][2] and apply knowledge from ',\n",
       " ' across a broad range of application domains. Data science is related to ',\n",
       " ' mining, machine learning and big ',\n",
       " '.\\n\\nData science is a \"concept to unify statistics, ',\n",
       " ' analysis, informatics, and their related methods\" in order to \"understand and analyse actual phenomena\" with ',\n",
       " '.[3] It uses techniques and theories drawn from many fields within the context of mathematics, statistics, computer science, information science, and domain knowledge.[4] However, ',\n",
       " ' science is different from computer science and information science. Turing Award winner Jim Gray imagined ',\n",
       " ' science as a \"fourth paradigm\" of science (empirical, theoretical, computational, and now ',\n",
       " '-driven) and asserted that \"everything about science is changing because of the impact of information technology\" and the ',\n",
       " ' deluge.[5][6]\\n\\nA ',\n",
       " ' scientist is someone who creates programming code and combines it with statistical knowledge to create insights from ',\n",
       " '.[7]\\n']"
      ]
     },
     "execution_count": 3,
     "metadata": {},
     "output_type": "execute_result"
    }
   ],
   "source": [
    "text = \"\"\" \n",
    "Data science is an interdisciplinary field that uses scientific methods, processes, algorithms and systems to extract knowledge and insights from noisy, structured and unstructured data,[1][2] and apply knowledge from data across a broad range of application domains. Data science is related to data mining, machine learning and big data.\n",
    "\n",
    "Data science is a \"concept to unify statistics, data analysis, informatics, and their related methods\" in order to \"understand and analyse actual phenomena\" with data.[3] It uses techniques and theories drawn from many fields within the context of mathematics, statistics, computer science, information science, and domain knowledge.[4] However, data science is different from computer science and information science. Turing Award winner Jim Gray imagined data science as a \"fourth paradigm\" of science (empirical, theoretical, computational, and now data-driven) and asserted that \"everything about science is changing because of the impact of information technology\" and the data deluge.[5][6]\n",
    "\n",
    "A data scientist is someone who creates programming code and combines it with statistical knowledge to create insights from data.[7]\n",
    "\"\"\"\n",
    "re.split('data',text)"
   ]
  },
  {
   "cell_type": "code",
   "execution_count": 4,
   "id": "394224c6",
   "metadata": {},
   "outputs": [
    {
     "data": {
      "text/plain": [
       "['Data',\n",
       " 'data',\n",
       " 'data',\n",
       " 'Data',\n",
       " 'data',\n",
       " 'data',\n",
       " 'Data',\n",
       " 'data',\n",
       " 'data',\n",
       " 'data',\n",
       " 'data',\n",
       " 'data',\n",
       " 'data',\n",
       " 'data',\n",
       " 'data']"
      ]
     },
     "execution_count": 4,
     "metadata": {},
     "output_type": "execute_result"
    }
   ],
   "source": [
    "re.findall('data|Data',text)"
   ]
  },
  {
   "cell_type": "markdown",
   "id": "243da066",
   "metadata": {},
   "source": [
    "anchors that specify the start and/ or the end of the string that you are trying to match.\n",
    "the carrot ^ symbol means start, and the dollar sign character $ means end. "
   ]
  },
  {
   "cell_type": "code",
   "execution_count": 5,
   "id": "f3d2c629",
   "metadata": {},
   "outputs": [
    {
     "data": {
      "text/plain": [
       "<re.Match object; span=(0, 3), match='Amy'>"
      ]
     },
     "execution_count": 5,
     "metadata": {},
     "output_type": "execute_result"
    }
   ],
   "source": [
    "text = \"Amy works diligently. Amy gets good grades. Our student Amy is Succesfull.\"\n",
    "re.search(\"^Amy\",text)"
   ]
  },
  {
   "cell_type": "code",
   "execution_count": 25,
   "id": "30a06209",
   "metadata": {},
   "outputs": [
    {
     "data": {
      "text/plain": [
       "<re.Match object; span=(21, 24), match='day'>"
      ]
     },
     "execution_count": 25,
     "metadata": {},
     "output_type": "execute_result"
    }
   ],
   "source": [
    "greeting = 'hi there\\nhave a nice day\\n'\n",
    "re.search(r'day$', greeting)"
   ]
  },
  {
   "cell_type": "code",
   "execution_count": 47,
   "id": "e68c52dc",
   "metadata": {},
   "outputs": [
    {
     "data": {
      "text/plain": [
       "['suresh', 'ramesh', 'kamesh', 'bhupheSh']"
      ]
     },
     "execution_count": 47,
     "metadata": {},
     "output_type": "execute_result"
    }
   ],
   "source": [
    "names = ['suresh','ramesh','kamesh','bhupheSh']\n",
    "#[name for name in names if re.search(r'sh$',name)]\n",
    "#[name for name in names if re.search(r'sh\\Z',name)]\n",
    "[name for name in names if re.search(r'sh|Sh\\Z',name)]"
   ]
  },
  {
   "cell_type": "code",
   "execution_count": 39,
   "id": "a5db024d",
   "metadata": {},
   "outputs": [
    {
     "data": {
      "text/plain": [
       "['suresh']"
      ]
     },
     "execution_count": 39,
     "metadata": {},
     "output_type": "execute_result"
    }
   ],
   "source": [
    "## starts with ^ or \\A\n",
    "[name for name in names if re.search(r'^su',name)]"
   ]
  },
  {
   "cell_type": "code",
   "execution_count": 40,
   "id": "73cf3bde",
   "metadata": {},
   "outputs": [
    {
     "data": {
      "text/plain": [
       "['suresh']"
      ]
     },
     "execution_count": 40,
     "metadata": {},
     "output_type": "execute_result"
    }
   ],
   "source": [
    "[name for name in names if re.search(r'\\Asu',name)]"
   ]
  },
  {
   "cell_type": "markdown",
   "id": "e92ed8b5",
   "metadata": {},
   "source": [
    "You can emulate string concatenation operations by using the anchors by themselves as a pattern."
   ]
  },
  {
   "cell_type": "code",
   "execution_count": 42,
   "id": "b01dd517",
   "metadata": {},
   "outputs": [
    {
     "data": {
      "text/plain": [
       "'resend'"
      ]
     },
     "execution_count": 42,
     "metadata": {},
     "output_type": "execute_result"
    }
   ],
   "source": [
    "# insert text at the start of a string\n",
    "re.sub(r'\\A', 're', 'send')"
   ]
  },
  {
   "cell_type": "code",
   "execution_count": 43,
   "id": "38f8cf79",
   "metadata": {},
   "outputs": [
    {
     "data": {
      "text/plain": [
       "'hacker'"
      ]
     },
     "execution_count": 43,
     "metadata": {},
     "output_type": "execute_result"
    }
   ],
   "source": [
    "re.sub(r'\\Z', 'er', 'hack')"
   ]
  },
  {
   "cell_type": "code",
   "execution_count": 44,
   "id": "0630ca1a",
   "metadata": {},
   "outputs": [
    {
     "data": {
      "text/plain": [
       "'hacker'"
      ]
     },
     "execution_count": 44,
     "metadata": {},
     "output_type": "execute_result"
    }
   ],
   "source": [
    "re.sub(r'$', 'er', 'hack')"
   ]
  },
  {
   "cell_type": "markdown",
   "id": "2e3507b4",
   "metadata": {},
   "source": [
    "## Patterns and Character Classes"
   ]
  },
  {
   "cell_type": "code",
   "execution_count": 7,
   "id": "f05b4560",
   "metadata": {},
   "outputs": [
    {
     "data": {
      "text/plain": [
       "['B', 'B', 'B']"
      ]
     },
     "execution_count": 7,
     "metadata": {},
     "output_type": "execute_result"
    }
   ],
   "source": [
    "grades = \"ACAAAABCBCBAA\"\n",
    "re.findall(\"B\",grades)"
   ]
  },
  {
   "cell_type": "code",
   "execution_count": 8,
   "id": "6c522c8a",
   "metadata": {},
   "outputs": [
    {
     "data": {
      "text/plain": [
       "['A', 'A', 'A', 'A', 'A', 'B', 'B', 'B', 'A', 'A']"
      ]
     },
     "execution_count": 8,
     "metadata": {},
     "output_type": "execute_result"
    }
   ],
   "source": [
    "re.findall(\"[AB]\",grades)\n",
    "## This is called the set operators \n",
    "## you can also include range of characters, which ore ordered alphanumerically \n",
    "## for instance if we want to refer to all lower case letters we could use [a-z]\n"
   ]
  },
  {
   "cell_type": "code",
   "execution_count": 9,
   "id": "7f26b9db",
   "metadata": {},
   "outputs": [
    {
     "data": {
      "text/plain": [
       "['AC', 'AB']"
      ]
     },
     "execution_count": 9,
     "metadata": {},
     "output_type": "execute_result"
    }
   ],
   "source": [
    "re.findall(\"[A][B-C]\",grades)\n",
    "\n",
    "#[AB] patterns describes a set of possible characters which could be either A or B, While the [A][B-C] pattern denotes\n",
    "# two sets of characters which must have been matched back to back."
   ]
  },
  {
   "cell_type": "code",
   "execution_count": 10,
   "id": "679fe599",
   "metadata": {},
   "outputs": [
    {
     "data": {
      "text/plain": [
       "['AC', 'AB']"
      ]
     },
     "execution_count": 10,
     "metadata": {},
     "output_type": "execute_result"
    }
   ],
   "source": [
    "re.findall(\"AB|AC\",grades)\n",
    "## [A][B-C] can write using pipe operator like AB|AC"
   ]
  },
  {
   "cell_type": "code",
   "execution_count": 11,
   "id": "b6505493",
   "metadata": {},
   "outputs": [
    {
     "data": {
      "text/plain": [
       "['C', 'B', 'C', 'B', 'C', 'B']"
      ]
     },
     "execution_count": 11,
     "metadata": {},
     "output_type": "execute_result"
    }
   ],
   "source": [
    "# we can use the carrot with the set operator to negate our results \n",
    "re.findall(\"[^A]\",grades)"
   ]
  },
  {
   "cell_type": "code",
   "execution_count": 14,
   "id": "446893e6",
   "metadata": {},
   "outputs": [
    {
     "data": {
      "text/plain": [
       "[]"
      ]
     },
     "execution_count": 14,
     "metadata": {},
     "output_type": "execute_result"
    }
   ],
   "source": [
    "re.findall(\"^[^A]\",grades)\n",
    "# ^[^A] means we want to match any value at the beginning of the string which is not an A.\n",
    "# our string through starts with an A, so there is no match found. And remeber when you are using the set operator you are doing \n",
    "# character base matching. so you are matching individual in an OR method "
   ]
  },
  {
   "cell_type": "code",
   "execution_count": null,
   "id": "3ef4c805",
   "metadata": {},
   "outputs": [],
   "source": [
    "re.findall(\"[A-Z]\",text)"
   ]
  },
  {
   "cell_type": "markdown",
   "id": "991c7d56",
   "metadata": {},
   "source": [
    "## Quantifiers"
   ]
  },
  {
   "cell_type": "markdown",
   "id": "65013cc4",
   "metadata": {},
   "source": [
    "Quantifiers are the number of times you want to pattern to be matched in order to actually count as a match.\n",
    "The most basic quantifiers, the expressed as e(m,n) where E is the expression or character we're matching,\n",
    "M is the minimum number of times you want it to be matched, and N is the maximum number of times the item could be matched.\n"
   ]
  },
  {
   "cell_type": "code",
   "execution_count": 54,
   "id": "bcdb1f1c",
   "metadata": {},
   "outputs": [
    {
     "data": {
      "text/plain": [
       "['AAAA', 'AA']"
      ]
     },
     "execution_count": 54,
     "metadata": {},
     "output_type": "execute_result"
    }
   ],
   "source": [
    "re.findall(\"A{2,10}\",grades)"
   ]
  },
  {
   "cell_type": "code",
   "execution_count": 55,
   "id": "d1b4ded0",
   "metadata": {
    "scrolled": true
   },
   "outputs": [
    {
     "data": {
      "text/plain": [
       "['AA', 'AA', 'AA']"
      ]
     },
     "execution_count": 55,
     "metadata": {},
     "output_type": "execute_result"
    }
   ],
   "source": [
    "re.findall(\"A{1,1}A{1,1}\",grades)"
   ]
  },
  {
   "cell_type": "code",
   "execution_count": 60,
   "id": "1b8dab43",
   "metadata": {},
   "outputs": [
    {
     "data": {
      "text/plain": [
       "[]"
      ]
     },
     "execution_count": 60,
     "metadata": {},
     "output_type": "execute_result"
    }
   ],
   "source": [
    "re.findall(\"A{1, 1}A{1,1}\",grades)\n",
    "## here we have given spaces in between quantifiers (A{1, 1}) so will give result as empty list "
   ]
  },
  {
   "cell_type": "code",
   "execution_count": 58,
   "id": "0417bb21",
   "metadata": {},
   "outputs": [
    {
     "data": {
      "text/plain": [
       "['AA', 'AA', 'AA']"
      ]
     },
     "execution_count": 58,
     "metadata": {},
     "output_type": "execute_result"
    }
   ],
   "source": [
    "re.findall(\"AA\",grades)\n",
    "# if you don't include quantifier then the default is {1,1}"
   ]
  },
  {
   "cell_type": "code",
   "execution_count": 62,
   "id": "5c0efd23",
   "metadata": {},
   "outputs": [
    {
     "data": {
      "text/plain": [
       "['AAAABC']"
      ]
     },
     "execution_count": 62,
     "metadata": {},
     "output_type": "execute_result"
    }
   ],
   "source": [
    "re.findall(\"A{1,10}B{1,10}C{1,10}\",grades)"
   ]
  },
  {
   "cell_type": "markdown",
   "id": "f9c0d8bc",
   "metadata": {},
   "source": [
    "There are 3 other quantifiers that are used as a short hand, as astrix\n",
    "\n",
    "'*' to match 0 or more times.\n",
    "\n",
    "\"?\" A Question mark  match one or more times\n",
    "\n",
    "\"+\" sign is to match one or more times "
   ]
  },
  {
   "cell_type": "code",
   "execution_count": 63,
   "id": "c53b72cf",
   "metadata": {},
   "outputs": [
    {
     "data": {
      "text/plain": [
       "<Response [200]>"
      ]
     },
     "execution_count": 63,
     "metadata": {},
     "output_type": "execute_result"
    }
   ],
   "source": [
    "import requests\n",
    "url=\"https://en.wikipedia.org/wiki/Data_science\"\n",
    "resp=requests.get(url)\n",
    "resp\n"
   ]
  },
  {
   "cell_type": "code",
   "execution_count": 91,
   "id": "7f860982",
   "metadata": {},
   "outputs": [
    {
     "data": {
      "text/plain": [
       "'Data science is an interdisciplinary field that uses scientific methods, processes, algorithms and systems to extract knowledge and insights from noisy, structured and unstructured data,[1][2] and apply knowledge from data across a broad range of application domains. Data science is related to data mining, machine learning and big data.\\n\\nData science is a \"concept to unify statistics, data analysis, informatics, and their related methods\" in order to \"understand and analyse actual phenomena\" with data.[3] It uses techniques and theories drawn from many fields within the context of mathematics, statistics, computer science, information science, and domain knowledge.[4] However, data science is different from computer science and information science. Turing Award winner Jim Gray imagined data science as a \"fourth paradigm\" of science (empirical, theoretical, computational, and now data-driven) and asserted that \"everything about science is changing because of the impact of information technology\" and the data deluge.[5][6]\\n\\nA data scientist is someone who creates programming code and combines it with statistical knowledge to create insights from data.[7]\\n\\n\\nContents\\n1\\tFoundations\\n1.1\\tRelationship to statistics\\n2\\tEtymology\\n2.1\\tEarly usage\\n2.2\\tModern usage\\n3\\tSee also\\n4\\tReferences\\nFoundations[edit]\\nData science is an interdisciplinary field focused on extracting knowledge from typically large data sets and applying the knowledge and insights from that data to solve problems in a wide range of application domains.[8] The field encompasses preparing data for analysis, formulating data science problems, analyzing data, developing data-driven solutions, and presenting findings to inform high-level decisions in a broad range of application domains. As such, it incorporates skills from computer science, statistics, information science, mathematics, data visualization, information visualization, data sonification, data integration, graphic design, complex systems, communication and business.[9][10] Statistician Nathan Yau, drawing on Ben Fry, also links data science to humanâ€“computer interaction: users should be able to intuitively control and explore data.[11][12] In 2015, the American Statistical Association identified database management, statistics and machine learning, and distributed and parallel systems as the three emerging foundational professional communities.[13]\\n\\nRelationship to statistics[edit]\\nMany statisticians, including Nate Silver, have argued that data science is not a new field, but rather another name for statistics.[14] Others argue that data science is distinct from statistics because it focuses on problems and techniques unique to digital data.[15] Vasant Dhar writes that statistics emphasizes quantitative data and description. In contrast, data science deals with quantitative and qualitative data (e.g. images) and emphasizes prediction and action.[16] Andrew Gelman of Columbia University has described statistics as a nonessential part of data science.[17]\\n\\nStanford professor David Donoho writes that data science is not distinguished from statistics by the size of datasets or use of computing, and that many graduate programs misleadingly advertise their analytics and statistics training as the essence of a data-science program. He describes data science as an applied field growing out of traditional statistics.[18]\\n\\nIn summary, data science can be therefore described as an applied branch of statistics.\\n\\nEtymology[edit]\\nEarly usage[edit]\\nIn 1962, John Tukey described a field he called \"data analysis\", which resembles modern data science.[18] In 1985, in a lecture given to the Chinese Academy of Sciences in Beijing, C. F. Jeff Wu used the term \"data science\" for the first time as an alternative name for statistics.[19] Later, attendees at a 1992 statistics symposium at the University of Montpellier II acknowledged the emergence of a new discipline focused on data of various origins and forms, combining established concepts and principles of statistics and data analysis with computing.[20][21]\\n\\nThe term \"data science\" has been traced back to 1974, when Peter Naur proposed it as an alternative name for computer science.[22] In 1996, the International Federation of Classification Societies became the first conference to specifically feature data science as a topic.[22] However, the definition was still in flux. After the 1985 lecture in the Chinese Academy of Sciences in Beijing, in 1997 C. F. Jeff Wu again suggested that statistics should be renamed data science. He reasoned that a new name would help statistics shed inaccurate stereotypes, such as being synonymous with accounting, or limited to describing data.[23] In 1998, Hayashi Chikio argued for data science as a new, interdisciplinary concept, with three aspects: data design, collection, and analysis.[21]\\n\\nDuring the 1990s, popular terms for the process of finding patterns in datasets (which were increasingly large) included \"knowledge discovery\" and \"data mining\".[24][22]\\n\\nModern usage[edit]\\nThe modern conception of data science as an independent discipline is sometimes attributed to William S. Cleveland.[25] In a 2001 paper, he advocated an expansion of statistics beyond theory into technical areas; because this would significantly change the field, it warranted a new name.[24] \"Data science\" became more widely used in the next few years: in 2002, the Committee on Data for Science and Technology launched Data Science Journal. In 2003, Columbia University launched The Journal of Data Science.[24] In 2014, the American Statistical Association\\'s Section on Statistical Learning and Data Mining changed its name to the Section on Statistical Learning and Data Science, reflecting the ascendant popularity of data science.[26]\\n\\nThe professional title of \"data scientist\" has been attributed to DJ Patil and Jeff Hammerbacher in 2008.[27] Though it was used by the National Science Board in their 2005 report \"Long-Lived Digital Data Collections: Enabling Research and Education in the 21st Century\", it referred broadly to any key role in managing a digital data collection.[28]\\n\\nThere is still no consensus on the definition of data science, and it is considered by some to be a buzzword.[29] Big data is a related marketing term.[30] Data scientists are responsible for breaking down big data into usable information and creating software and algorithms that help companies and organizations determine optimal operations.[31]'"
      ]
     },
     "execution_count": 91,
     "metadata": {},
     "output_type": "execute_result"
    }
   ],
   "source": [
    "with open(\"wikidataScience.txt\",'r') as file:\n",
    "    wiki = file.read()\n",
    "wiki\n"
   ]
  },
  {
   "cell_type": "code",
   "execution_count": 92,
   "id": "c862bee2",
   "metadata": {},
   "outputs": [
    {
     "data": {
      "text/plain": [
       "['Foundations[edit]',\n",
       " 'statistics[edit]',\n",
       " 'Etymology[edit]',\n",
       " 'usage[edit]',\n",
       " 'usage[edit]']"
      ]
     },
     "execution_count": 92,
     "metadata": {},
     "output_type": "execute_result"
    }
   ],
   "source": [
    "re.findall(\"[a-zA-Z]{1,100}\\[edit\\]\",wiki)"
   ]
  },
  {
   "cell_type": "code",
   "execution_count": 96,
   "id": "96ec3182",
   "metadata": {},
   "outputs": [
    {
     "data": {
      "text/plain": [
       "['Foundations[edit]',\n",
       " 'statistics[edit]',\n",
       " 'Etymology[edit]',\n",
       " 'usage[edit]',\n",
       " 'usage[edit]']"
      ]
     },
     "execution_count": 96,
     "metadata": {},
     "output_type": "execute_result"
    }
   ],
   "source": [
    "re.findall(\"[\\w]{1,100}\\[edit\\]\",wiki)\n",
    "# [/w] to match any letter, including digits and numbers\n",
    "# /w is a meta character it indicates special pattern of any letter or digit "
   ]
  },
  {
   "cell_type": "code",
   "execution_count": 101,
   "id": "90c30384",
   "metadata": {},
   "outputs": [
    {
     "data": {
      "text/plain": [
       "['Foundations[edit]',\n",
       " 'statistics[edit]',\n",
       " 'Etymology[edit]',\n",
       " 'usage[edit]',\n",
       " 'usage[edit]']"
      ]
     },
     "execution_count": 101,
     "metadata": {},
     "output_type": "execute_result"
    }
   ],
   "source": [
    "re.findall(\"[\\w]*\\[edit\\]\",wiki)\n"
   ]
  },
  {
   "cell_type": "code",
   "execution_count": 102,
   "id": "63c8862d",
   "metadata": {},
   "outputs": [
    {
     "data": {
      "text/plain": [
       "['Foundations[edit]',\n",
       " 'Relationship to statistics[edit]',\n",
       " 'Etymology[edit]',\n",
       " 'Early usage[edit]',\n",
       " 'Modern usage[edit]']"
      ]
     },
     "execution_count": 102,
     "metadata": {},
     "output_type": "execute_result"
    }
   ],
   "source": [
    "re.findall(\"[\\w ]*\\[edit\\]\",wiki)"
   ]
  },
  {
   "cell_type": "code",
   "execution_count": 109,
   "id": "3f8a8ae1",
   "metadata": {},
   "outputs": [
    {
     "name": "stdout",
     "output_type": "stream",
     "text": [
      "Foundations\n",
      "Relationship to statistics\n",
      "Etymology\n",
      "Early usage\n",
      "Modern usage\n"
     ]
    }
   ],
   "source": [
    "for title in re.findall(\"[\\w ]*\\[edit\\]\",wiki):\n",
    "    print(re.split(\"[\\[]\",title)[0])\n",
    "    "
   ]
  },
  {
   "cell_type": "code",
   "execution_count": null,
   "id": "d415294e",
   "metadata": {},
   "outputs": [],
   "source": []
  }
 ],
 "metadata": {
  "kernelspec": {
   "display_name": "Python 3 (ipykernel)",
   "language": "python",
   "name": "python3"
  },
  "language_info": {
   "codemirror_mode": {
    "name": "ipython",
    "version": 3
   },
   "file_extension": ".py",
   "mimetype": "text/x-python",
   "name": "python",
   "nbconvert_exporter": "python",
   "pygments_lexer": "ipython3",
   "version": "3.9.7"
  }
 },
 "nbformat": 4,
 "nbformat_minor": 5
}
