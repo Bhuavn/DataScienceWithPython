{
 "cells": [
  {
   "cell_type": "markdown",
   "id": "e710336e",
   "metadata": {},
   "source": [
    "# Binning\n",
    "https://t4tutorials.com/binning-methods-for-data-smoothing-in-data-mining/"
   ]
  },
  {
   "cell_type": "code",
   "execution_count": 5,
   "id": "af4d9cca",
   "metadata": {},
   "outputs": [
    {
     "data": {
      "text/html": [
       "<div>\n",
       "<style scoped>\n",
       "    .dataframe tbody tr th:only-of-type {\n",
       "        vertical-align: middle;\n",
       "    }\n",
       "\n",
       "    .dataframe tbody tr th {\n",
       "        vertical-align: top;\n",
       "    }\n",
       "\n",
       "    .dataframe thead th {\n",
       "        text-align: right;\n",
       "    }\n",
       "</style>\n",
       "<table border=\"1\" class=\"dataframe\">\n",
       "  <thead>\n",
       "    <tr style=\"text-align: right;\">\n",
       "      <th></th>\n",
       "      <th>Name</th>\n",
       "      <th>Age</th>\n",
       "      <th>Grade</th>\n",
       "      <th>Role</th>\n",
       "      <th>Rating</th>\n",
       "      <th>Country</th>\n",
       "    </tr>\n",
       "  </thead>\n",
       "  <tbody>\n",
       "    <tr>\n",
       "      <th>0</th>\n",
       "      <td>Virat</td>\n",
       "      <td>31</td>\n",
       "      <td>Best</td>\n",
       "      <td>Batsman</td>\n",
       "      <td>871</td>\n",
       "      <td>IND</td>\n",
       "    </tr>\n",
       "    <tr>\n",
       "      <th>1</th>\n",
       "      <td>Rohit</td>\n",
       "      <td>32</td>\n",
       "      <td>Better</td>\n",
       "      <td>Batsman</td>\n",
       "      <td>855</td>\n",
       "      <td>IND</td>\n",
       "    </tr>\n",
       "    <tr>\n",
       "      <th>2</th>\n",
       "      <td>Barbar</td>\n",
       "      <td>25</td>\n",
       "      <td>Good</td>\n",
       "      <td>Batsman</td>\n",
       "      <td>829</td>\n",
       "      <td>PAK</td>\n",
       "    </tr>\n",
       "    <tr>\n",
       "      <th>3</th>\n",
       "      <td>Boult</td>\n",
       "      <td>31</td>\n",
       "      <td>Best</td>\n",
       "      <td>Bowler</td>\n",
       "      <td>722</td>\n",
       "      <td>NZ</td>\n",
       "    </tr>\n",
       "    <tr>\n",
       "      <th>4</th>\n",
       "      <td>Bumrah</td>\n",
       "      <td>26</td>\n",
       "      <td>Better</td>\n",
       "      <td>Bowler</td>\n",
       "      <td>719</td>\n",
       "      <td>IND</td>\n",
       "    </tr>\n",
       "    <tr>\n",
       "      <th>5</th>\n",
       "      <td>Mujeeb</td>\n",
       "      <td>19</td>\n",
       "      <td>Good</td>\n",
       "      <td>Bowler</td>\n",
       "      <td>701</td>\n",
       "      <td>AFG</td>\n",
       "    </tr>\n",
       "    <tr>\n",
       "      <th>6</th>\n",
       "      <td>Nabi</td>\n",
       "      <td>35</td>\n",
       "      <td>Best</td>\n",
       "      <td>All-Rounder</td>\n",
       "      <td>301</td>\n",
       "      <td>AFG</td>\n",
       "    </tr>\n",
       "    <tr>\n",
       "      <th>7</th>\n",
       "      <td>Strokes</td>\n",
       "      <td>29</td>\n",
       "      <td>Better</td>\n",
       "      <td>All-Rounder</td>\n",
       "      <td>285</td>\n",
       "      <td>ENG</td>\n",
       "    </tr>\n",
       "  </tbody>\n",
       "</table>\n",
       "</div>"
      ],
      "text/plain": [
       "      Name  Age   Grade         Role  Rating Country\n",
       "0    Virat   31    Best      Batsman     871     IND\n",
       "1    Rohit   32  Better      Batsman     855     IND\n",
       "2   Barbar   25    Good      Batsman     829     PAK\n",
       "3    Boult   31    Best       Bowler     722      NZ\n",
       "4   Bumrah   26  Better       Bowler     719     IND\n",
       "5   Mujeeb   19    Good       Bowler     701     AFG\n",
       "6     Nabi   35    Best  All-Rounder     301     AFG\n",
       "7  Strokes   29  Better  All-Rounder     285     ENG"
      ]
     },
     "execution_count": 5,
     "metadata": {},
     "output_type": "execute_result"
    }
   ],
   "source": [
    "import pandas as pd\n",
    "\n",
    "cricketers ={'Name':['Virat','Rohit','Barbar','Boult','Bumrah','Mujeeb','Nabi','Strokes'],\n",
    "            'Age':[31,32,25,31,26,19,35,29],\n",
    "             'Grade':['Best','Better','Good','Best','Better','Good','Best','Better'],\n",
    "             'Role':['Batsman','Batsman','Batsman','Bowler','Bowler','Bowler','All-Rounder','All-Rounder'],\n",
    "             'Rating':[871,855,829,722,719,701,301,285],\n",
    "             'Country':['IND','IND','PAK','NZ','IND','AFG','AFG','ENG']\n",
    "            }\n",
    "df = pd.DataFrame(cricketers)\n",
    "df"
   ]
  },
  {
   "cell_type": "code",
   "execution_count": null,
   "id": "4822a3d8",
   "metadata": {},
   "outputs": [],
   "source": []
  },
  {
   "cell_type": "code",
   "execution_count": null,
   "id": "c688fe65",
   "metadata": {},
   "outputs": [],
   "source": [
    "# Continus variables to binning"
   ]
  },
  {
   "cell_type": "code",
   "execution_count": 11,
   "id": "ab48f459",
   "metadata": {},
   "outputs": [],
   "source": [
    "def binning(col,cut_points,labels=None):\n",
    "    minval = min(col)\n",
    "    maxval = max(col)\n",
    "    break_points = [minval]+cut_points+[maxval]\n",
    "    print(break_points)\n",
    "    if not labels:\n",
    "        labels = range(len(cut_points)+1)\n",
    "    colBin = pd.cut(col,bins=break_points,labels=labels,include_lowest=True)\n",
    "    return colBin\n"
   ]
  },
  {
   "cell_type": "code",
   "execution_count": 14,
   "id": "688077ef",
   "metadata": {
    "scrolled": true
   },
   "outputs": [
    {
     "name": "stdout",
     "output_type": "stream",
     "text": [
      "[19, 25, 30, 35]\n"
     ]
    },
    {
     "data": {
      "text/html": [
       "<div>\n",
       "<style scoped>\n",
       "    .dataframe tbody tr th:only-of-type {\n",
       "        vertical-align: middle;\n",
       "    }\n",
       "\n",
       "    .dataframe tbody tr th {\n",
       "        vertical-align: top;\n",
       "    }\n",
       "\n",
       "    .dataframe thead th {\n",
       "        text-align: right;\n",
       "    }\n",
       "</style>\n",
       "<table border=\"1\" class=\"dataframe\">\n",
       "  <thead>\n",
       "    <tr style=\"text-align: right;\">\n",
       "      <th></th>\n",
       "      <th>Name</th>\n",
       "      <th>Age</th>\n",
       "      <th>Grade</th>\n",
       "      <th>Role</th>\n",
       "      <th>Rating</th>\n",
       "      <th>Country</th>\n",
       "      <th>Exp_category</th>\n",
       "    </tr>\n",
       "  </thead>\n",
       "  <tbody>\n",
       "    <tr>\n",
       "      <th>0</th>\n",
       "      <td>Virat</td>\n",
       "      <td>31</td>\n",
       "      <td>Best</td>\n",
       "      <td>Batsman</td>\n",
       "      <td>871</td>\n",
       "      <td>IND</td>\n",
       "      <td>SuperSenior</td>\n",
       "    </tr>\n",
       "    <tr>\n",
       "      <th>1</th>\n",
       "      <td>Rohit</td>\n",
       "      <td>32</td>\n",
       "      <td>Better</td>\n",
       "      <td>Batsman</td>\n",
       "      <td>855</td>\n",
       "      <td>IND</td>\n",
       "      <td>SuperSenior</td>\n",
       "    </tr>\n",
       "    <tr>\n",
       "      <th>2</th>\n",
       "      <td>Barbar</td>\n",
       "      <td>25</td>\n",
       "      <td>Good</td>\n",
       "      <td>Batsman</td>\n",
       "      <td>829</td>\n",
       "      <td>PAK</td>\n",
       "      <td>Young</td>\n",
       "    </tr>\n",
       "    <tr>\n",
       "      <th>3</th>\n",
       "      <td>Boult</td>\n",
       "      <td>31</td>\n",
       "      <td>Best</td>\n",
       "      <td>Bowler</td>\n",
       "      <td>722</td>\n",
       "      <td>NZ</td>\n",
       "      <td>SuperSenior</td>\n",
       "    </tr>\n",
       "    <tr>\n",
       "      <th>4</th>\n",
       "      <td>Bumrah</td>\n",
       "      <td>26</td>\n",
       "      <td>Better</td>\n",
       "      <td>Bowler</td>\n",
       "      <td>719</td>\n",
       "      <td>IND</td>\n",
       "      <td>Senior</td>\n",
       "    </tr>\n",
       "    <tr>\n",
       "      <th>5</th>\n",
       "      <td>Mujeeb</td>\n",
       "      <td>19</td>\n",
       "      <td>Good</td>\n",
       "      <td>Bowler</td>\n",
       "      <td>701</td>\n",
       "      <td>AFG</td>\n",
       "      <td>Young</td>\n",
       "    </tr>\n",
       "    <tr>\n",
       "      <th>6</th>\n",
       "      <td>Nabi</td>\n",
       "      <td>35</td>\n",
       "      <td>Best</td>\n",
       "      <td>All-Rounder</td>\n",
       "      <td>301</td>\n",
       "      <td>AFG</td>\n",
       "      <td>SuperSenior</td>\n",
       "    </tr>\n",
       "    <tr>\n",
       "      <th>7</th>\n",
       "      <td>Strokes</td>\n",
       "      <td>29</td>\n",
       "      <td>Better</td>\n",
       "      <td>All-Rounder</td>\n",
       "      <td>285</td>\n",
       "      <td>ENG</td>\n",
       "      <td>Senior</td>\n",
       "    </tr>\n",
       "  </tbody>\n",
       "</table>\n",
       "</div>"
      ],
      "text/plain": [
       "      Name  Age   Grade         Role  Rating Country Exp_category\n",
       "0    Virat   31    Best      Batsman     871     IND  SuperSenior\n",
       "1    Rohit   32  Better      Batsman     855     IND  SuperSenior\n",
       "2   Barbar   25    Good      Batsman     829     PAK        Young\n",
       "3    Boult   31    Best       Bowler     722      NZ  SuperSenior\n",
       "4   Bumrah   26  Better       Bowler     719     IND       Senior\n",
       "5   Mujeeb   19    Good       Bowler     701     AFG        Young\n",
       "6     Nabi   35    Best  All-Rounder     301     AFG  SuperSenior\n",
       "7  Strokes   29  Better  All-Rounder     285     ENG       Senior"
      ]
     },
     "execution_count": 14,
     "metadata": {},
     "output_type": "execute_result"
    }
   ],
   "source": [
    "cut_points =[25,30]\n",
    "labels =['Young','Senior','SuperSenior']\n",
    "df['Exp_category'] = binning(df['Age'],cut_points,labels)\n",
    "df"
   ]
  },
  {
   "cell_type": "markdown",
   "id": "f2c0d68f",
   "metadata": {},
   "source": [
    "# Summarizing the Data Frame Descriptive Statistics\n",
    "\n",
    "https://pandas.pydata.org/docs/reference/api/pandas.DataFrame.describe.html\n",
    "\n",
    "The <b>describe()</b> method returns description of the data in the DataFrame.\n",
    "\n",
    "\n",
    "If the DataFrame contains numerical data, the description contains these information for each column:\n",
    "\n",
    "\n",
    "count - The number of not-empty values.\n",
    "\n",
    "mean - The average (mean) value.\n",
    "\n",
    "std - The standard deviation.\n",
    "\n",
    "min - the minimum value.\n",
    "\n",
    "25% - The 25% percentile*.\n",
    "\n",
    "50% - The 50% percentile*.\n",
    "\n",
    "75% - The 75% percentile*.\n",
    "\n",
    "max - the maximum value.\n",
    "\n",
    "*Percentile meaning: how many of the values are less than the given percentile. Read more about percentiles in our Machine Learning Percentile chapter.\n",
    "Syntax : dataframe.describe(percentiles, include, exclude, datetime_is_numeric)"
   ]
  },
  {
   "cell_type": "code",
   "execution_count": 43,
   "id": "28815abb",
   "metadata": {},
   "outputs": [],
   "source": [
    "import pandas as pd\n",
    "orders = pd.read_excel(r'Sample - Superstore Sales.xls')\n",
    "orders.head()"
   ]
  },
  {
   "cell_type": "code",
   "execution_count": 21,
   "id": "abd78646",
   "metadata": {},
   "outputs": [],
   "source": [
    "orders.describe()\n",
    "## descibe method by default it takes only numerical values\n",
    "## along with Row ID and Order ID"
   ]
  },
  {
   "cell_type": "code",
   "execution_count": 29,
   "id": "a2d3c5b0",
   "metadata": {},
   "outputs": [],
   "source": [
    "orders.describe(include='all')"
   ]
  },
  {
   "cell_type": "code",
   "execution_count": 32,
   "id": "84ffe362",
   "metadata": {},
   "outputs": [],
   "source": [
    "orders.describe(include=['object'])\n",
    "## can see which contaion character data"
   ]
  },
  {
   "cell_type": "code",
   "execution_count": 34,
   "id": "e00f81ea",
   "metadata": {},
   "outputs": [],
   "source": [
    "orders.describe(include=['object','float'])"
   ]
  },
  {
   "cell_type": "code",
   "execution_count": 37,
   "id": "57786b39",
   "metadata": {},
   "outputs": [],
   "source": [
    "orders[orders['Order Priority'] == 'High'].describe()"
   ]
  },
  {
   "cell_type": "code",
   "execution_count": 42,
   "id": "ff5da725",
   "metadata": {},
   "outputs": [],
   "source": [
    "orders[(orders['Order Priority'] == 'High') & (orders.Sales >= 10000)].describe()"
   ]
  },
  {
   "cell_type": "markdown",
   "id": "e70c0488",
   "metadata": {},
   "source": [
    "## Groupby\n",
    "https://pandas.pydata.org/docs/reference/api/pandas.DataFrame.groupby.html"
   ]
  },
  {
   "cell_type": "code",
   "execution_count": null,
   "id": "746fc4e9",
   "metadata": {},
   "outputs": [],
   "source": []
  }
 ],
 "metadata": {
  "kernelspec": {
   "display_name": "Python 3 (ipykernel)",
   "language": "python",
   "name": "python3"
  },
  "language_info": {
   "codemirror_mode": {
    "name": "ipython",
    "version": 3
   },
   "file_extension": ".py",
   "mimetype": "text/x-python",
   "name": "python",
   "nbconvert_exporter": "python",
   "pygments_lexer": "ipython3",
   "version": "3.9.7"
  }
 },
 "nbformat": 4,
 "nbformat_minor": 5
}
